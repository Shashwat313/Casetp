{
 "cells": [
  {
   "cell_type": "code",
   "execution_count": 1,
   "metadata": {
    "_cell_guid": "b1076dfc-b9ad-4769-8c92-a6c4dae69d19",
    "_uuid": "8f2839f25d086af736a60e9eeb907d3b93b6e0e5",
    "execution": {
     "iopub.execute_input": "2021-02-03T14:59:37.730168Z",
     "iopub.status.busy": "2021-02-03T14:59:37.729423Z",
     "iopub.status.idle": "2021-02-03T14:59:45.581792Z",
     "shell.execute_reply": "2021-02-03T14:59:45.582361Z"
    },
    "papermill": {
     "duration": 7.873903,
     "end_time": "2021-02-03T14:59:45.582710",
     "exception": false,
     "start_time": "2021-02-03T14:59:37.708807",
     "status": "completed"
    },
    "tags": []
   },
   "outputs": [],
   "source": [
    "import numpy as np\n",
    "import pandas as pd\n",
    "\n",
    "import matplotlib.pyplot as plt\n",
    "import seaborn as sns\n",
    "\n",
    "from sklearn.model_selection import train_test_split\n",
    "\n",
    "import tensorflow as tf\n",
    "\n",
    "from sklearn.metrics import confusion_matrix, classification_report"
   ]
  },
  {
   "cell_type": "code",
   "execution_count": 2,
   "metadata": {
    "execution": {
     "iopub.execute_input": "2021-02-03T14:59:45.612834Z",
     "iopub.status.busy": "2021-02-03T14:59:45.611846Z",
     "iopub.status.idle": "2021-02-03T14:59:47.469082Z",
     "shell.execute_reply": "2021-02-03T14:59:47.469674Z"
    },
    "papermill": {
     "duration": 1.873801,
     "end_time": "2021-02-03T14:59:47.469882",
     "exception": false,
     "start_time": "2021-02-03T14:59:45.596081",
     "status": "completed"
    },
    "tags": []
   },
   "outputs": [],
   "source": [
    "data = pd.read_csv('../input/skin-cancer-mnist-ham10000/hmnist_28_28_L.csv')"
   ]
  },
  {
   "cell_type": "code",
   "execution_count": 3,
   "metadata": {
    "execution": {
     "iopub.execute_input": "2021-02-03T14:59:47.500244Z",
     "iopub.status.busy": "2021-02-03T14:59:47.499178Z",
     "iopub.status.idle": "2021-02-03T14:59:47.545132Z",
     "shell.execute_reply": "2021-02-03T14:59:47.545665Z"
    },
    "papermill": {
     "duration": 0.062963,
     "end_time": "2021-02-03T14:59:47.545845",
     "exception": false,
     "start_time": "2021-02-03T14:59:47.482882",
     "status": "completed"
    },
    "tags": []
   },
   "outputs": [
    {
     "data": {
      "text/html": [
       "<div>\n",
       "<style scoped>\n",
       "    .dataframe tbody tr th:only-of-type {\n",
       "        vertical-align: middle;\n",
       "    }\n",
       "\n",
       "    .dataframe tbody tr th {\n",
       "        vertical-align: top;\n",
       "    }\n",
       "\n",
       "    .dataframe thead th {\n",
       "        text-align: right;\n",
       "    }\n",
       "</style>\n",
       "<table border=\"1\" class=\"dataframe\">\n",
       "  <thead>\n",
       "    <tr style=\"text-align: right;\">\n",
       "      <th></th>\n",
       "      <th>pixel0000</th>\n",
       "      <th>pixel0001</th>\n",
       "      <th>pixel0002</th>\n",
       "      <th>pixel0003</th>\n",
       "      <th>pixel0004</th>\n",
       "      <th>pixel0005</th>\n",
       "      <th>pixel0006</th>\n",
       "      <th>pixel0007</th>\n",
       "      <th>pixel0008</th>\n",
       "      <th>pixel0009</th>\n",
       "      <th>...</th>\n",
       "      <th>pixel0775</th>\n",
       "      <th>pixel0776</th>\n",
       "      <th>pixel0777</th>\n",
       "      <th>pixel0778</th>\n",
       "      <th>pixel0779</th>\n",
       "      <th>pixel0780</th>\n",
       "      <th>pixel0781</th>\n",
       "      <th>pixel0782</th>\n",
       "      <th>pixel0783</th>\n",
       "      <th>label</th>\n",
       "    </tr>\n",
       "  </thead>\n",
       "  <tbody>\n",
       "    <tr>\n",
       "      <th>0</th>\n",
       "      <td>169</td>\n",
       "      <td>171</td>\n",
       "      <td>170</td>\n",
       "      <td>177</td>\n",
       "      <td>181</td>\n",
       "      <td>182</td>\n",
       "      <td>181</td>\n",
       "      <td>185</td>\n",
       "      <td>194</td>\n",
       "      <td>192</td>\n",
       "      <td>...</td>\n",
       "      <td>184</td>\n",
       "      <td>186</td>\n",
       "      <td>185</td>\n",
       "      <td>180</td>\n",
       "      <td>157</td>\n",
       "      <td>140</td>\n",
       "      <td>140</td>\n",
       "      <td>159</td>\n",
       "      <td>165</td>\n",
       "      <td>2</td>\n",
       "    </tr>\n",
       "    <tr>\n",
       "      <th>1</th>\n",
       "      <td>19</td>\n",
       "      <td>57</td>\n",
       "      <td>105</td>\n",
       "      <td>140</td>\n",
       "      <td>149</td>\n",
       "      <td>148</td>\n",
       "      <td>144</td>\n",
       "      <td>155</td>\n",
       "      <td>170</td>\n",
       "      <td>170</td>\n",
       "      <td>...</td>\n",
       "      <td>172</td>\n",
       "      <td>175</td>\n",
       "      <td>160</td>\n",
       "      <td>144</td>\n",
       "      <td>114</td>\n",
       "      <td>89</td>\n",
       "      <td>47</td>\n",
       "      <td>18</td>\n",
       "      <td>18</td>\n",
       "      <td>2</td>\n",
       "    </tr>\n",
       "    <tr>\n",
       "      <th>2</th>\n",
       "      <td>155</td>\n",
       "      <td>163</td>\n",
       "      <td>161</td>\n",
       "      <td>167</td>\n",
       "      <td>167</td>\n",
       "      <td>172</td>\n",
       "      <td>155</td>\n",
       "      <td>152</td>\n",
       "      <td>165</td>\n",
       "      <td>175</td>\n",
       "      <td>...</td>\n",
       "      <td>163</td>\n",
       "      <td>178</td>\n",
       "      <td>157</td>\n",
       "      <td>166</td>\n",
       "      <td>167</td>\n",
       "      <td>148</td>\n",
       "      <td>141</td>\n",
       "      <td>136</td>\n",
       "      <td>115</td>\n",
       "      <td>2</td>\n",
       "    </tr>\n",
       "    <tr>\n",
       "      <th>3</th>\n",
       "      <td>25</td>\n",
       "      <td>71</td>\n",
       "      <td>116</td>\n",
       "      <td>139</td>\n",
       "      <td>136</td>\n",
       "      <td>153</td>\n",
       "      <td>148</td>\n",
       "      <td>161</td>\n",
       "      <td>172</td>\n",
       "      <td>162</td>\n",
       "      <td>...</td>\n",
       "      <td>125</td>\n",
       "      <td>135</td>\n",
       "      <td>138</td>\n",
       "      <td>137</td>\n",
       "      <td>111</td>\n",
       "      <td>71</td>\n",
       "      <td>32</td>\n",
       "      <td>16</td>\n",
       "      <td>16</td>\n",
       "      <td>2</td>\n",
       "    </tr>\n",
       "    <tr>\n",
       "      <th>4</th>\n",
       "      <td>129</td>\n",
       "      <td>162</td>\n",
       "      <td>181</td>\n",
       "      <td>196</td>\n",
       "      <td>205</td>\n",
       "      <td>208</td>\n",
       "      <td>205</td>\n",
       "      <td>213</td>\n",
       "      <td>225</td>\n",
       "      <td>224</td>\n",
       "      <td>...</td>\n",
       "      <td>210</td>\n",
       "      <td>197</td>\n",
       "      <td>172</td>\n",
       "      <td>190</td>\n",
       "      <td>195</td>\n",
       "      <td>193</td>\n",
       "      <td>181</td>\n",
       "      <td>147</td>\n",
       "      <td>88</td>\n",
       "      <td>2</td>\n",
       "    </tr>\n",
       "    <tr>\n",
       "      <th>...</th>\n",
       "      <td>...</td>\n",
       "      <td>...</td>\n",
       "      <td>...</td>\n",
       "      <td>...</td>\n",
       "      <td>...</td>\n",
       "      <td>...</td>\n",
       "      <td>...</td>\n",
       "      <td>...</td>\n",
       "      <td>...</td>\n",
       "      <td>...</td>\n",
       "      <td>...</td>\n",
       "      <td>...</td>\n",
       "      <td>...</td>\n",
       "      <td>...</td>\n",
       "      <td>...</td>\n",
       "      <td>...</td>\n",
       "      <td>...</td>\n",
       "      <td>...</td>\n",
       "      <td>...</td>\n",
       "      <td>...</td>\n",
       "      <td>...</td>\n",
       "    </tr>\n",
       "    <tr>\n",
       "      <th>10010</th>\n",
       "      <td>172</td>\n",
       "      <td>171</td>\n",
       "      <td>173</td>\n",
       "      <td>175</td>\n",
       "      <td>164</td>\n",
       "      <td>187</td>\n",
       "      <td>207</td>\n",
       "      <td>210</td>\n",
       "      <td>208</td>\n",
       "      <td>206</td>\n",
       "      <td>...</td>\n",
       "      <td>210</td>\n",
       "      <td>217</td>\n",
       "      <td>221</td>\n",
       "      <td>209</td>\n",
       "      <td>185</td>\n",
       "      <td>187</td>\n",
       "      <td>192</td>\n",
       "      <td>192</td>\n",
       "      <td>192</td>\n",
       "      <td>0</td>\n",
       "    </tr>\n",
       "    <tr>\n",
       "      <th>10011</th>\n",
       "      <td>2</td>\n",
       "      <td>34</td>\n",
       "      <td>108</td>\n",
       "      <td>116</td>\n",
       "      <td>114</td>\n",
       "      <td>119</td>\n",
       "      <td>131</td>\n",
       "      <td>139</td>\n",
       "      <td>139</td>\n",
       "      <td>145</td>\n",
       "      <td>...</td>\n",
       "      <td>173</td>\n",
       "      <td>169</td>\n",
       "      <td>168</td>\n",
       "      <td>168</td>\n",
       "      <td>143</td>\n",
       "      <td>138</td>\n",
       "      <td>83</td>\n",
       "      <td>23</td>\n",
       "      <td>3</td>\n",
       "      <td>0</td>\n",
       "    </tr>\n",
       "    <tr>\n",
       "      <th>10012</th>\n",
       "      <td>122</td>\n",
       "      <td>154</td>\n",
       "      <td>162</td>\n",
       "      <td>170</td>\n",
       "      <td>179</td>\n",
       "      <td>197</td>\n",
       "      <td>200</td>\n",
       "      <td>195</td>\n",
       "      <td>202</td>\n",
       "      <td>199</td>\n",
       "      <td>...</td>\n",
       "      <td>221</td>\n",
       "      <td>215</td>\n",
       "      <td>205</td>\n",
       "      <td>187</td>\n",
       "      <td>209</td>\n",
       "      <td>198</td>\n",
       "      <td>187</td>\n",
       "      <td>164</td>\n",
       "      <td>156</td>\n",
       "      <td>0</td>\n",
       "    </tr>\n",
       "    <tr>\n",
       "      <th>10013</th>\n",
       "      <td>137</td>\n",
       "      <td>143</td>\n",
       "      <td>141</td>\n",
       "      <td>139</td>\n",
       "      <td>147</td>\n",
       "      <td>152</td>\n",
       "      <td>155</td>\n",
       "      <td>152</td>\n",
       "      <td>155</td>\n",
       "      <td>159</td>\n",
       "      <td>...</td>\n",
       "      <td>172</td>\n",
       "      <td>171</td>\n",
       "      <td>175</td>\n",
       "      <td>183</td>\n",
       "      <td>177</td>\n",
       "      <td>170</td>\n",
       "      <td>169</td>\n",
       "      <td>166</td>\n",
       "      <td>170</td>\n",
       "      <td>0</td>\n",
       "    </tr>\n",
       "    <tr>\n",
       "      <th>10014</th>\n",
       "      <td>149</td>\n",
       "      <td>157</td>\n",
       "      <td>157</td>\n",
       "      <td>152</td>\n",
       "      <td>151</td>\n",
       "      <td>152</td>\n",
       "      <td>154</td>\n",
       "      <td>163</td>\n",
       "      <td>149</td>\n",
       "      <td>145</td>\n",
       "      <td>...</td>\n",
       "      <td>159</td>\n",
       "      <td>154</td>\n",
       "      <td>145</td>\n",
       "      <td>106</td>\n",
       "      <td>67</td>\n",
       "      <td>62</td>\n",
       "      <td>103</td>\n",
       "      <td>146</td>\n",
       "      <td>148</td>\n",
       "      <td>6</td>\n",
       "    </tr>\n",
       "  </tbody>\n",
       "</table>\n",
       "<p>10015 rows × 785 columns</p>\n",
       "</div>"
      ],
      "text/plain": [
       "       pixel0000  pixel0001  pixel0002  pixel0003  pixel0004  pixel0005  \\\n",
       "0            169        171        170        177        181        182   \n",
       "1             19         57        105        140        149        148   \n",
       "2            155        163        161        167        167        172   \n",
       "3             25         71        116        139        136        153   \n",
       "4            129        162        181        196        205        208   \n",
       "...          ...        ...        ...        ...        ...        ...   \n",
       "10010        172        171        173        175        164        187   \n",
       "10011          2         34        108        116        114        119   \n",
       "10012        122        154        162        170        179        197   \n",
       "10013        137        143        141        139        147        152   \n",
       "10014        149        157        157        152        151        152   \n",
       "\n",
       "       pixel0006  pixel0007  pixel0008  pixel0009  ...  pixel0775  pixel0776  \\\n",
       "0            181        185        194        192  ...        184        186   \n",
       "1            144        155        170        170  ...        172        175   \n",
       "2            155        152        165        175  ...        163        178   \n",
       "3            148        161        172        162  ...        125        135   \n",
       "4            205        213        225        224  ...        210        197   \n",
       "...          ...        ...        ...        ...  ...        ...        ...   \n",
       "10010        207        210        208        206  ...        210        217   \n",
       "10011        131        139        139        145  ...        173        169   \n",
       "10012        200        195        202        199  ...        221        215   \n",
       "10013        155        152        155        159  ...        172        171   \n",
       "10014        154        163        149        145  ...        159        154   \n",
       "\n",
       "       pixel0777  pixel0778  pixel0779  pixel0780  pixel0781  pixel0782  \\\n",
       "0            185        180        157        140        140        159   \n",
       "1            160        144        114         89         47         18   \n",
       "2            157        166        167        148        141        136   \n",
       "3            138        137        111         71         32         16   \n",
       "4            172        190        195        193        181        147   \n",
       "...          ...        ...        ...        ...        ...        ...   \n",
       "10010        221        209        185        187        192        192   \n",
       "10011        168        168        143        138         83         23   \n",
       "10012        205        187        209        198        187        164   \n",
       "10013        175        183        177        170        169        166   \n",
       "10014        145        106         67         62        103        146   \n",
       "\n",
       "       pixel0783  label  \n",
       "0            165      2  \n",
       "1             18      2  \n",
       "2            115      2  \n",
       "3             16      2  \n",
       "4             88      2  \n",
       "...          ...    ...  \n",
       "10010        192      0  \n",
       "10011          3      0  \n",
       "10012        156      0  \n",
       "10013        170      0  \n",
       "10014        148      6  \n",
       "\n",
       "[10015 rows x 785 columns]"
      ]
     },
     "execution_count": 3,
     "metadata": {},
     "output_type": "execute_result"
    }
   ],
   "source": [
    "data"
   ]
  },
  {
   "cell_type": "code",
   "execution_count": 4,
   "metadata": {
    "execution": {
     "iopub.execute_input": "2021-02-03T14:59:47.578521Z",
     "iopub.status.busy": "2021-02-03T14:59:47.577371Z",
     "iopub.status.idle": "2021-02-03T14:59:47.597469Z",
     "shell.execute_reply": "2021-02-03T14:59:47.597947Z"
    },
    "papermill": {
     "duration": 0.037853,
     "end_time": "2021-02-03T14:59:47.598139",
     "exception": false,
     "start_time": "2021-02-03T14:59:47.560286",
     "status": "completed"
    },
    "tags": []
   },
   "outputs": [
    {
     "data": {
      "text/plain": [
       "0"
      ]
     },
     "execution_count": 4,
     "metadata": {},
     "output_type": "execute_result"
    }
   ],
   "source": [
    "data.isna().sum().sum()"
   ]
  },
  {
   "cell_type": "code",
   "execution_count": 5,
   "metadata": {
    "execution": {
     "iopub.execute_input": "2021-02-03T14:59:47.630909Z",
     "iopub.status.busy": "2021-02-03T14:59:47.629947Z",
     "iopub.status.idle": "2021-02-03T14:59:47.692137Z",
     "shell.execute_reply": "2021-02-03T14:59:47.692655Z"
    },
    "papermill": {
     "duration": 0.080111,
     "end_time": "2021-02-03T14:59:47.692852",
     "exception": false,
     "start_time": "2021-02-03T14:59:47.612741",
     "status": "completed"
    },
    "tags": []
   },
   "outputs": [],
   "source": [
    "y = data['label'].copy()\n",
    "X = data.drop('label', axis=1).copy()"
   ]
  },
  {
   "cell_type": "code",
   "execution_count": 6,
   "metadata": {
    "execution": {
     "iopub.execute_input": "2021-02-03T14:59:47.726244Z",
     "iopub.status.busy": "2021-02-03T14:59:47.725371Z",
     "iopub.status.idle": "2021-02-03T14:59:47.736690Z",
     "shell.execute_reply": "2021-02-03T14:59:47.736100Z"
    },
    "papermill": {
     "duration": 0.02927,
     "end_time": "2021-02-03T14:59:47.736836",
     "exception": false,
     "start_time": "2021-02-03T14:59:47.707566",
     "status": "completed"
    },
    "tags": []
   },
   "outputs": [
    {
     "data": {
      "text/plain": [
       "4    6705\n",
       "6    1113\n",
       "2    1099\n",
       "1     514\n",
       "0     327\n",
       "5     142\n",
       "3     115\n",
       "Name: label, dtype: int64"
      ]
     },
     "execution_count": 6,
     "metadata": {},
     "output_type": "execute_result"
    }
   ],
   "source": [
    "y.value_counts()"
   ]
  },
  {
   "cell_type": "code",
   "execution_count": 7,
   "metadata": {
    "execution": {
     "iopub.execute_input": "2021-02-03T14:59:47.773696Z",
     "iopub.status.busy": "2021-02-03T14:59:47.772406Z",
     "iopub.status.idle": "2021-02-03T14:59:47.775832Z",
     "shell.execute_reply": "2021-02-03T14:59:47.775157Z"
    },
    "papermill": {
     "duration": 0.023895,
     "end_time": "2021-02-03T14:59:47.775980",
     "exception": false,
     "start_time": "2021-02-03T14:59:47.752085",
     "status": "completed"
    },
    "tags": []
   },
   "outputs": [],
   "source": [
    "label_mapping = {\n",
    "    0: 'nv',\n",
    "    1: 'mel',\n",
    "    2: 'bkl',\n",
    "    3: 'bcc',\n",
    "    4: 'akiec',\n",
    "    5: 'vasc',\n",
    "    6: 'df'\n",
    "}"
   ]
  },
  {
   "cell_type": "code",
   "execution_count": 8,
   "metadata": {
    "execution": {
     "iopub.execute_input": "2021-02-03T14:59:47.811758Z",
     "iopub.status.busy": "2021-02-03T14:59:47.810822Z",
     "iopub.status.idle": "2021-02-03T14:59:47.883137Z",
     "shell.execute_reply": "2021-02-03T14:59:47.883681Z"
    },
    "papermill": {
     "duration": 0.092439,
     "end_time": "2021-02-03T14:59:47.883859",
     "exception": false,
     "start_time": "2021-02-03T14:59:47.791420",
     "status": "completed"
    },
    "tags": []
   },
   "outputs": [
    {
     "data": {
      "text/html": [
       "<div>\n",
       "<style scoped>\n",
       "    .dataframe tbody tr th:only-of-type {\n",
       "        vertical-align: middle;\n",
       "    }\n",
       "\n",
       "    .dataframe tbody tr th {\n",
       "        vertical-align: top;\n",
       "    }\n",
       "\n",
       "    .dataframe thead th {\n",
       "        text-align: right;\n",
       "    }\n",
       "</style>\n",
       "<table border=\"1\" class=\"dataframe\">\n",
       "  <thead>\n",
       "    <tr style=\"text-align: right;\">\n",
       "      <th></th>\n",
       "      <th>pixel0000</th>\n",
       "      <th>pixel0001</th>\n",
       "      <th>pixel0002</th>\n",
       "      <th>pixel0003</th>\n",
       "      <th>pixel0004</th>\n",
       "      <th>pixel0005</th>\n",
       "      <th>pixel0006</th>\n",
       "      <th>pixel0007</th>\n",
       "      <th>pixel0008</th>\n",
       "      <th>pixel0009</th>\n",
       "      <th>...</th>\n",
       "      <th>pixel0774</th>\n",
       "      <th>pixel0775</th>\n",
       "      <th>pixel0776</th>\n",
       "      <th>pixel0777</th>\n",
       "      <th>pixel0778</th>\n",
       "      <th>pixel0779</th>\n",
       "      <th>pixel0780</th>\n",
       "      <th>pixel0781</th>\n",
       "      <th>pixel0782</th>\n",
       "      <th>pixel0783</th>\n",
       "    </tr>\n",
       "  </thead>\n",
       "  <tbody>\n",
       "    <tr>\n",
       "      <th>0</th>\n",
       "      <td>0.662745</td>\n",
       "      <td>0.670588</td>\n",
       "      <td>0.666667</td>\n",
       "      <td>0.694118</td>\n",
       "      <td>0.709804</td>\n",
       "      <td>0.713725</td>\n",
       "      <td>0.709804</td>\n",
       "      <td>0.725490</td>\n",
       "      <td>0.760784</td>\n",
       "      <td>0.752941</td>\n",
       "      <td>...</td>\n",
       "      <td>0.690196</td>\n",
       "      <td>0.721569</td>\n",
       "      <td>0.729412</td>\n",
       "      <td>0.725490</td>\n",
       "      <td>0.705882</td>\n",
       "      <td>0.615686</td>\n",
       "      <td>0.549020</td>\n",
       "      <td>0.549020</td>\n",
       "      <td>0.623529</td>\n",
       "      <td>0.647059</td>\n",
       "    </tr>\n",
       "    <tr>\n",
       "      <th>1</th>\n",
       "      <td>0.074510</td>\n",
       "      <td>0.223529</td>\n",
       "      <td>0.411765</td>\n",
       "      <td>0.549020</td>\n",
       "      <td>0.584314</td>\n",
       "      <td>0.580392</td>\n",
       "      <td>0.564706</td>\n",
       "      <td>0.607843</td>\n",
       "      <td>0.666667</td>\n",
       "      <td>0.666667</td>\n",
       "      <td>...</td>\n",
       "      <td>0.709804</td>\n",
       "      <td>0.674510</td>\n",
       "      <td>0.686275</td>\n",
       "      <td>0.627451</td>\n",
       "      <td>0.564706</td>\n",
       "      <td>0.447059</td>\n",
       "      <td>0.349020</td>\n",
       "      <td>0.184314</td>\n",
       "      <td>0.070588</td>\n",
       "      <td>0.070588</td>\n",
       "    </tr>\n",
       "    <tr>\n",
       "      <th>2</th>\n",
       "      <td>0.607843</td>\n",
       "      <td>0.639216</td>\n",
       "      <td>0.631373</td>\n",
       "      <td>0.654902</td>\n",
       "      <td>0.654902</td>\n",
       "      <td>0.674510</td>\n",
       "      <td>0.607843</td>\n",
       "      <td>0.596078</td>\n",
       "      <td>0.647059</td>\n",
       "      <td>0.686275</td>\n",
       "      <td>...</td>\n",
       "      <td>0.635294</td>\n",
       "      <td>0.639216</td>\n",
       "      <td>0.698039</td>\n",
       "      <td>0.615686</td>\n",
       "      <td>0.650980</td>\n",
       "      <td>0.654902</td>\n",
       "      <td>0.580392</td>\n",
       "      <td>0.552941</td>\n",
       "      <td>0.533333</td>\n",
       "      <td>0.450980</td>\n",
       "    </tr>\n",
       "    <tr>\n",
       "      <th>3</th>\n",
       "      <td>0.098039</td>\n",
       "      <td>0.278431</td>\n",
       "      <td>0.454902</td>\n",
       "      <td>0.545098</td>\n",
       "      <td>0.533333</td>\n",
       "      <td>0.600000</td>\n",
       "      <td>0.580392</td>\n",
       "      <td>0.631373</td>\n",
       "      <td>0.674510</td>\n",
       "      <td>0.635294</td>\n",
       "      <td>...</td>\n",
       "      <td>0.556863</td>\n",
       "      <td>0.490196</td>\n",
       "      <td>0.529412</td>\n",
       "      <td>0.541176</td>\n",
       "      <td>0.537255</td>\n",
       "      <td>0.435294</td>\n",
       "      <td>0.278431</td>\n",
       "      <td>0.125490</td>\n",
       "      <td>0.062745</td>\n",
       "      <td>0.062745</td>\n",
       "    </tr>\n",
       "    <tr>\n",
       "      <th>4</th>\n",
       "      <td>0.505882</td>\n",
       "      <td>0.635294</td>\n",
       "      <td>0.709804</td>\n",
       "      <td>0.768627</td>\n",
       "      <td>0.803922</td>\n",
       "      <td>0.815686</td>\n",
       "      <td>0.803922</td>\n",
       "      <td>0.835294</td>\n",
       "      <td>0.882353</td>\n",
       "      <td>0.878431</td>\n",
       "      <td>...</td>\n",
       "      <td>0.827451</td>\n",
       "      <td>0.823529</td>\n",
       "      <td>0.772549</td>\n",
       "      <td>0.674510</td>\n",
       "      <td>0.745098</td>\n",
       "      <td>0.764706</td>\n",
       "      <td>0.756863</td>\n",
       "      <td>0.709804</td>\n",
       "      <td>0.576471</td>\n",
       "      <td>0.345098</td>\n",
       "    </tr>\n",
       "    <tr>\n",
       "      <th>...</th>\n",
       "      <td>...</td>\n",
       "      <td>...</td>\n",
       "      <td>...</td>\n",
       "      <td>...</td>\n",
       "      <td>...</td>\n",
       "      <td>...</td>\n",
       "      <td>...</td>\n",
       "      <td>...</td>\n",
       "      <td>...</td>\n",
       "      <td>...</td>\n",
       "      <td>...</td>\n",
       "      <td>...</td>\n",
       "      <td>...</td>\n",
       "      <td>...</td>\n",
       "      <td>...</td>\n",
       "      <td>...</td>\n",
       "      <td>...</td>\n",
       "      <td>...</td>\n",
       "      <td>...</td>\n",
       "      <td>...</td>\n",
       "      <td>...</td>\n",
       "    </tr>\n",
       "    <tr>\n",
       "      <th>10010</th>\n",
       "      <td>0.674510</td>\n",
       "      <td>0.670588</td>\n",
       "      <td>0.678431</td>\n",
       "      <td>0.686275</td>\n",
       "      <td>0.643137</td>\n",
       "      <td>0.733333</td>\n",
       "      <td>0.811765</td>\n",
       "      <td>0.823529</td>\n",
       "      <td>0.815686</td>\n",
       "      <td>0.807843</td>\n",
       "      <td>...</td>\n",
       "      <td>0.823529</td>\n",
       "      <td>0.823529</td>\n",
       "      <td>0.850980</td>\n",
       "      <td>0.866667</td>\n",
       "      <td>0.819608</td>\n",
       "      <td>0.725490</td>\n",
       "      <td>0.733333</td>\n",
       "      <td>0.752941</td>\n",
       "      <td>0.752941</td>\n",
       "      <td>0.752941</td>\n",
       "    </tr>\n",
       "    <tr>\n",
       "      <th>10011</th>\n",
       "      <td>0.007843</td>\n",
       "      <td>0.133333</td>\n",
       "      <td>0.423529</td>\n",
       "      <td>0.454902</td>\n",
       "      <td>0.447059</td>\n",
       "      <td>0.466667</td>\n",
       "      <td>0.513725</td>\n",
       "      <td>0.545098</td>\n",
       "      <td>0.545098</td>\n",
       "      <td>0.568627</td>\n",
       "      <td>...</td>\n",
       "      <td>0.721569</td>\n",
       "      <td>0.678431</td>\n",
       "      <td>0.662745</td>\n",
       "      <td>0.658824</td>\n",
       "      <td>0.658824</td>\n",
       "      <td>0.560784</td>\n",
       "      <td>0.541176</td>\n",
       "      <td>0.325490</td>\n",
       "      <td>0.090196</td>\n",
       "      <td>0.011765</td>\n",
       "    </tr>\n",
       "    <tr>\n",
       "      <th>10012</th>\n",
       "      <td>0.478431</td>\n",
       "      <td>0.603922</td>\n",
       "      <td>0.635294</td>\n",
       "      <td>0.666667</td>\n",
       "      <td>0.701961</td>\n",
       "      <td>0.772549</td>\n",
       "      <td>0.784314</td>\n",
       "      <td>0.764706</td>\n",
       "      <td>0.792157</td>\n",
       "      <td>0.780392</td>\n",
       "      <td>...</td>\n",
       "      <td>0.874510</td>\n",
       "      <td>0.866667</td>\n",
       "      <td>0.843137</td>\n",
       "      <td>0.803922</td>\n",
       "      <td>0.733333</td>\n",
       "      <td>0.819608</td>\n",
       "      <td>0.776471</td>\n",
       "      <td>0.733333</td>\n",
       "      <td>0.643137</td>\n",
       "      <td>0.611765</td>\n",
       "    </tr>\n",
       "    <tr>\n",
       "      <th>10013</th>\n",
       "      <td>0.537255</td>\n",
       "      <td>0.560784</td>\n",
       "      <td>0.552941</td>\n",
       "      <td>0.545098</td>\n",
       "      <td>0.576471</td>\n",
       "      <td>0.596078</td>\n",
       "      <td>0.607843</td>\n",
       "      <td>0.596078</td>\n",
       "      <td>0.607843</td>\n",
       "      <td>0.623529</td>\n",
       "      <td>...</td>\n",
       "      <td>0.698039</td>\n",
       "      <td>0.674510</td>\n",
       "      <td>0.670588</td>\n",
       "      <td>0.686275</td>\n",
       "      <td>0.717647</td>\n",
       "      <td>0.694118</td>\n",
       "      <td>0.666667</td>\n",
       "      <td>0.662745</td>\n",
       "      <td>0.650980</td>\n",
       "      <td>0.666667</td>\n",
       "    </tr>\n",
       "    <tr>\n",
       "      <th>10014</th>\n",
       "      <td>0.584314</td>\n",
       "      <td>0.615686</td>\n",
       "      <td>0.615686</td>\n",
       "      <td>0.596078</td>\n",
       "      <td>0.592157</td>\n",
       "      <td>0.596078</td>\n",
       "      <td>0.603922</td>\n",
       "      <td>0.639216</td>\n",
       "      <td>0.584314</td>\n",
       "      <td>0.568627</td>\n",
       "      <td>...</td>\n",
       "      <td>0.650980</td>\n",
       "      <td>0.623529</td>\n",
       "      <td>0.603922</td>\n",
       "      <td>0.568627</td>\n",
       "      <td>0.415686</td>\n",
       "      <td>0.262745</td>\n",
       "      <td>0.243137</td>\n",
       "      <td>0.403922</td>\n",
       "      <td>0.572549</td>\n",
       "      <td>0.580392</td>\n",
       "    </tr>\n",
       "  </tbody>\n",
       "</table>\n",
       "<p>10015 rows × 784 columns</p>\n",
       "</div>"
      ],
      "text/plain": [
       "       pixel0000  pixel0001  pixel0002  pixel0003  pixel0004  pixel0005  \\\n",
       "0       0.662745   0.670588   0.666667   0.694118   0.709804   0.713725   \n",
       "1       0.074510   0.223529   0.411765   0.549020   0.584314   0.580392   \n",
       "2       0.607843   0.639216   0.631373   0.654902   0.654902   0.674510   \n",
       "3       0.098039   0.278431   0.454902   0.545098   0.533333   0.600000   \n",
       "4       0.505882   0.635294   0.709804   0.768627   0.803922   0.815686   \n",
       "...          ...        ...        ...        ...        ...        ...   \n",
       "10010   0.674510   0.670588   0.678431   0.686275   0.643137   0.733333   \n",
       "10011   0.007843   0.133333   0.423529   0.454902   0.447059   0.466667   \n",
       "10012   0.478431   0.603922   0.635294   0.666667   0.701961   0.772549   \n",
       "10013   0.537255   0.560784   0.552941   0.545098   0.576471   0.596078   \n",
       "10014   0.584314   0.615686   0.615686   0.596078   0.592157   0.596078   \n",
       "\n",
       "       pixel0006  pixel0007  pixel0008  pixel0009  ...  pixel0774  pixel0775  \\\n",
       "0       0.709804   0.725490   0.760784   0.752941  ...   0.690196   0.721569   \n",
       "1       0.564706   0.607843   0.666667   0.666667  ...   0.709804   0.674510   \n",
       "2       0.607843   0.596078   0.647059   0.686275  ...   0.635294   0.639216   \n",
       "3       0.580392   0.631373   0.674510   0.635294  ...   0.556863   0.490196   \n",
       "4       0.803922   0.835294   0.882353   0.878431  ...   0.827451   0.823529   \n",
       "...          ...        ...        ...        ...  ...        ...        ...   \n",
       "10010   0.811765   0.823529   0.815686   0.807843  ...   0.823529   0.823529   \n",
       "10011   0.513725   0.545098   0.545098   0.568627  ...   0.721569   0.678431   \n",
       "10012   0.784314   0.764706   0.792157   0.780392  ...   0.874510   0.866667   \n",
       "10013   0.607843   0.596078   0.607843   0.623529  ...   0.698039   0.674510   \n",
       "10014   0.603922   0.639216   0.584314   0.568627  ...   0.650980   0.623529   \n",
       "\n",
       "       pixel0776  pixel0777  pixel0778  pixel0779  pixel0780  pixel0781  \\\n",
       "0       0.729412   0.725490   0.705882   0.615686   0.549020   0.549020   \n",
       "1       0.686275   0.627451   0.564706   0.447059   0.349020   0.184314   \n",
       "2       0.698039   0.615686   0.650980   0.654902   0.580392   0.552941   \n",
       "3       0.529412   0.541176   0.537255   0.435294   0.278431   0.125490   \n",
       "4       0.772549   0.674510   0.745098   0.764706   0.756863   0.709804   \n",
       "...          ...        ...        ...        ...        ...        ...   \n",
       "10010   0.850980   0.866667   0.819608   0.725490   0.733333   0.752941   \n",
       "10011   0.662745   0.658824   0.658824   0.560784   0.541176   0.325490   \n",
       "10012   0.843137   0.803922   0.733333   0.819608   0.776471   0.733333   \n",
       "10013   0.670588   0.686275   0.717647   0.694118   0.666667   0.662745   \n",
       "10014   0.603922   0.568627   0.415686   0.262745   0.243137   0.403922   \n",
       "\n",
       "       pixel0782  pixel0783  \n",
       "0       0.623529   0.647059  \n",
       "1       0.070588   0.070588  \n",
       "2       0.533333   0.450980  \n",
       "3       0.062745   0.062745  \n",
       "4       0.576471   0.345098  \n",
       "...          ...        ...  \n",
       "10010   0.752941   0.752941  \n",
       "10011   0.090196   0.011765  \n",
       "10012   0.643137   0.611765  \n",
       "10013   0.650980   0.666667  \n",
       "10014   0.572549   0.580392  \n",
       "\n",
       "[10015 rows x 784 columns]"
      ]
     },
     "execution_count": 8,
     "metadata": {},
     "output_type": "execute_result"
    }
   ],
   "source": [
    "X = X / 255\n",
    "\n",
    "X"
   ]
  },
  {
   "cell_type": "code",
   "execution_count": 9,
   "metadata": {
    "execution": {
     "iopub.execute_input": "2021-02-03T14:59:47.922003Z",
     "iopub.status.busy": "2021-02-03T14:59:47.921216Z",
     "iopub.status.idle": "2021-02-03T14:59:47.949720Z",
     "shell.execute_reply": "2021-02-03T14:59:47.949074Z"
    },
    "papermill": {
     "duration": 0.04949,
     "end_time": "2021-02-03T14:59:47.949892",
     "exception": false,
     "start_time": "2021-02-03T14:59:47.900402",
     "status": "completed"
    },
    "tags": []
   },
   "outputs": [
    {
     "name": "stdout",
     "output_type": "stream",
     "text": [
      "(10015, 784)\n"
     ]
    }
   ],
   "source": [
    "X = np.array(X)\n",
    "print(X.shape)"
   ]
  },
  {
   "cell_type": "code",
   "execution_count": 10,
   "metadata": {
    "execution": {
     "iopub.execute_input": "2021-02-03T14:59:47.991658Z",
     "iopub.status.busy": "2021-02-03T14:59:47.990812Z",
     "iopub.status.idle": "2021-02-03T14:59:47.994475Z",
     "shell.execute_reply": "2021-02-03T14:59:47.995005Z"
    },
    "papermill": {
     "duration": 0.027741,
     "end_time": "2021-02-03T14:59:47.995180",
     "exception": false,
     "start_time": "2021-02-03T14:59:47.967439",
     "status": "completed"
    },
    "tags": []
   },
   "outputs": [
    {
     "name": "stdout",
     "output_type": "stream",
     "text": [
      "(10015, 28, 28, 1)\n"
     ]
    }
   ],
   "source": [
    "X = X.reshape(-1, 28, 28, 1)\n",
    "print(X.shape)"
   ]
  },
  {
   "cell_type": "code",
   "execution_count": 11,
   "metadata": {
    "execution": {
     "iopub.execute_input": "2021-02-03T14:59:48.055305Z",
     "iopub.status.busy": "2021-02-03T14:59:48.042394Z",
     "iopub.status.idle": "2021-02-03T14:59:48.060304Z",
     "shell.execute_reply": "2021-02-03T14:59:48.059668Z"
    },
    "papermill": {
     "duration": 0.046939,
     "end_time": "2021-02-03T14:59:48.060477",
     "exception": false,
     "start_time": "2021-02-03T14:59:48.013538",
     "status": "completed"
    },
    "tags": []
   },
   "outputs": [],
   "source": [
    "sample_data = pd.Series(list(zip(X, y))).sample(9)\n",
    "\n",
    "sample_X = np.stack(np.array(sample_data.apply(lambda x: x[0])))\n",
    "sample_y = np.array(sample_data.apply(lambda x: x[1]))"
   ]
  },
  {
   "cell_type": "code",
   "execution_count": 12,
   "metadata": {
    "execution": {
     "iopub.execute_input": "2021-02-03T14:59:48.118344Z",
     "iopub.status.busy": "2021-02-03T14:59:48.115851Z",
     "iopub.status.idle": "2021-02-03T14:59:48.619378Z",
     "shell.execute_reply": "2021-02-03T14:59:48.618638Z"
    },
    "papermill": {
     "duration": 0.541651,
     "end_time": "2021-02-03T14:59:48.619537",
     "exception": false,
     "start_time": "2021-02-03T14:59:48.077886",
     "status": "completed"
    },
    "tags": []
   },
   "outputs": [
    {
     "data": {
      "image/png": "[encoded data removed]",
      "text/plain": [
       "<Figure size 864x864 with 9 Axes>"
      ]
     },
     "metadata": {
      "needs_background": "light"
     },
     "output_type": "display_data"
    }
   ],
   "source": [
    "plt.figure(figsize=(12, 12))\n",
    "\n",
    "for i in range(9):\n",
    "    plt.subplot(3, 3, i + 1)\n",
    "    plt.imshow(np.squeeze(sample_X[i]))\n",
    "    img_label = label_mapping[sample_y[i]]\n",
    "    plt.title(img_label)\n",
    "    plt.axis(\"off\")\n",
    "\n",
    "plt.show()"
   ]
  },
  {
   "cell_type": "code",
   "execution_count": 13,
   "metadata": {
    "execution": {
     "iopub.execute_input": "2021-02-03T14:59:48.665276Z",
     "iopub.status.busy": "2021-02-03T14:59:48.664581Z",
     "iopub.status.idle": "2021-02-03T14:59:48.787128Z",
     "shell.execute_reply": "2021-02-03T14:59:48.786284Z"
    },
    "papermill": {
     "duration": 0.147943,
     "end_time": "2021-02-03T14:59:48.787303",
     "exception": false,
     "start_time": "2021-02-03T14:59:48.639360",
     "status": "completed"
    },
    "tags": []
   },
   "outputs": [],
   "source": [
    "X_train, X_test, y_train, y_test = train_test_split(X, y, train_size=0.7, random_state=123)"
   ]
  },
  {
   "cell_type": "code",
   "execution_count": 14,
   "metadata": {
    "execution": {
     "iopub.execute_input": "2021-02-03T14:59:48.835567Z",
     "iopub.status.busy": "2021-02-03T14:59:48.834874Z",
     "iopub.status.idle": "2021-02-03T14:59:48.979978Z",
     "shell.execute_reply": "2021-02-03T14:59:48.979031Z"
    },
    "papermill": {
     "duration": 0.173761,
     "end_time": "2021-02-03T14:59:48.980201",
     "exception": false,
     "start_time": "2021-02-03T14:59:48.806440",
     "status": "completed"
    },
    "tags": []
   },
   "outputs": [
    {
     "name": "stdout",
     "output_type": "stream",
     "text": [
      "Model: \"model\"\n",
      "_________________________________________________________________\n",
      "Layer (type)                 Output Shape              Param #   \n",
      "=================================================================\n",
      "input (InputLayer)           [(None, 28, 28, 1)]       0         \n",
      "_________________________________________________________________\n",
      "conv1 (Conv2D)               (None, 26, 26, 16)        160       \n",
      "_________________________________________________________________\n",
      "maxpool1 (MaxPooling2D)      (None, 13, 13, 16)        0         \n",
      "_________________________________________________________________\n",
      "conv2 (Conv2D)               (None, 11, 11, 32)        4640      \n",
      "_________________________________________________________________\n",
      "maxpool2 (MaxPooling2D)      (None, 5, 5, 32)          0         \n",
      "_________________________________________________________________\n",
      "conv3 (Conv2D)               (None, 3, 3, 64)          18496     \n",
      "_________________________________________________________________\n",
      "maxpool3 (MaxPooling2D)      (None, 1, 1, 64)          0         \n",
      "_________________________________________________________________\n",
      "avgpool (GlobalAveragePoolin (None, 64)                0         \n",
      "_________________________________________________________________\n",
      "output (Dense)               (None, 7)                 455       \n",
      "=================================================================\n",
      "Total params: 23,751\n",
      "Trainable params: 23,751\n",
      "Non-trainable params: 0\n",
      "_________________________________________________________________\n",
      "None\n",
      "('Failed to import pydot. You must `pip install pydot` and install graphviz (https://graphviz.gitlab.io/download/), ', 'for `pydotprint` to work.')\n"
     ]
    }
   ],
   "source": [
    "\n",
    "inputs = tf.keras.Input(shape=(28, 28, 1), name='input')\n",
    "\n",
    "conv1 = tf.keras.layers.Conv2D(filters=16, kernel_size=3, name='conv1')(inputs)\n",
    "maxpool1 = tf.keras.layers.MaxPooling2D(name='maxpool1')(conv1)\n",
    "\n",
    "conv2 = tf.keras.layers.Conv2D(filters=32, kernel_size=3, name='conv2')(maxpool1)\n",
    "maxpool2 = tf.keras.layers.MaxPooling2D(name='maxpool2')(conv2)\n",
    "\n",
    "conv3 = tf.keras.layers.Conv2D(filters=64, kernel_size=3, name='conv3')(maxpool2)\n",
    "maxpool3 = tf.keras.layers.MaxPooling2D(name='maxpool3')(conv3)\n",
    "\n",
    "avgpool = tf.keras.layers.GlobalAveragePooling2D(name='avgpool')(maxpool3)\n",
    "\n",
    "outputs = tf.keras.layers.Dense(7, activation='softmax', name='output')(avgpool)\n",
    "\n",
    "\n",
    "model = tf.keras.Model(inputs=inputs, outputs=outputs)\n",
    "\n",
    "print(model.summary())\n",
    "tf.keras.utils.plot_model(model)"
   ]
  },
  {
   "cell_type": "code",
   "execution_count": 15,
   "metadata": {
    "execution": {
     "iopub.execute_input": "2021-02-03T14:59:49.039381Z",
     "iopub.status.busy": "2021-02-03T14:59:49.034956Z",
     "iopub.status.idle": "2021-02-03T15:00:10.998761Z",
     "shell.execute_reply": "2021-02-03T15:00:10.999276Z"
    },
    "papermill": {
     "duration": 21.998645,
     "end_time": "2021-02-03T15:00:10.999474",
     "exception": false,
     "start_time": "2021-02-03T14:59:49.000829",
     "status": "completed"
    },
    "tags": []
   },
   "outputs": [
    {
     "name": "stdout",
     "output_type": "stream",
     "text": [
      "Epoch 1/50\n",
      "176/176 [==============================] - 3s 15ms/step - loss: 1.2040 - accuracy: 0.6698 - val_loss: 1.0990 - val_accuracy: 0.6583\n",
      "Epoch 2/50\n",
      "176/176 [==============================] - 2s 12ms/step - loss: 1.0517 - accuracy: 0.6695 - val_loss: 1.0320 - val_accuracy: 0.6591\n",
      "Epoch 3/50\n",
      "176/176 [==============================] - 2s 12ms/step - loss: 0.9907 - accuracy: 0.6791 - val_loss: 1.0013 - val_accuracy: 0.6605\n",
      "Epoch 4/50\n",
      "176/176 [==============================] - 2s 12ms/step - loss: 0.9625 - accuracy: 0.6819 - val_loss: 0.9856 - val_accuracy: 0.6633\n",
      "Epoch 5/50\n",
      "176/176 [==============================] - 2s 12ms/step - loss: 0.9414 - accuracy: 0.6890 - val_loss: 0.9527 - val_accuracy: 0.6662\n",
      "Epoch 6/50\n",
      "176/176 [==============================] - 2s 12ms/step - loss: 0.8989 - accuracy: 0.6929 - val_loss: 0.9462 - val_accuracy: 0.6683\n",
      "Epoch 7/50\n",
      "176/176 [==============================] - 2s 12ms/step - loss: 0.8926 - accuracy: 0.6830 - val_loss: 0.9356 - val_accuracy: 0.6683\n",
      "Epoch 8/50\n",
      "176/176 [==============================] - 2s 12ms/step - loss: 0.8698 - accuracy: 0.6946 - val_loss: 0.9512 - val_accuracy: 0.6733\n",
      "Epoch 9/50\n",
      "176/176 [==============================] - 2s 12ms/step - loss: 0.8804 - accuracy: 0.6906 - val_loss: 0.9551 - val_accuracy: 0.6826\n",
      "Epoch 10/50\n",
      "176/176 [==============================] - 2s 11ms/step - loss: 0.8640 - accuracy: 0.7017 - val_loss: 0.9866 - val_accuracy: 0.6583\n"
     ]
    }
   ],
   "source": [
    "model.compile(\n",
    "    optimizer='adam',\n",
    "    loss='sparse_categorical_crossentropy',\n",
    "    metrics=['accuracy']\n",
    ")\n",
    "\n",
    "\n",
    "batch_size = 32\n",
    "epochs = 50\n",
    "\n",
    "history = model.fit(\n",
    "    X_train,\n",
    "    y_train,\n",
    "    validation_split=0.2,\n",
    "    batch_size=batch_size,\n",
    "    epochs=epochs,\n",
    "    callbacks=[\n",
    "        tf.keras.callbacks.EarlyStopping(\n",
    "            monitor='val_loss',\n",
    "            patience=3,\n",
    "            restore_best_weights=True\n",
    "        )\n",
    "    ]\n",
    ")\n"
   ]
  },
  {
   "cell_type": "code",
   "execution_count": 16,
   "metadata": {
    "execution": {
     "iopub.execute_input": "2021-02-03T15:00:11.257518Z",
     "iopub.status.busy": "2021-02-03T15:00:11.256797Z",
     "iopub.status.idle": "2021-02-03T15:00:11.645277Z",
     "shell.execute_reply": "2021-02-03T15:00:11.644100Z"
    },
    "papermill": {
     "duration": 0.520019,
     "end_time": "2021-02-03T15:00:11.645511",
     "exception": false,
     "start_time": "2021-02-03T15:00:11.125492",
     "status": "completed"
    },
    "tags": []
   },
   "outputs": [
    {
     "name": "stdout",
     "output_type": "stream",
     "text": [
      "Test Accuracy: 68%\n"
     ]
    }
   ],
   "source": [
    "model_acc = model.evaluate(X_test, y_test, verbose=0)[1]\n",
    "\n",
    "print(\"Test Accuracy: {:.0f}%\".format(model_acc * 100))"
   ]
  },
  {
   "cell_type": "code",
   "execution_count": 17,
   "metadata": {
    "execution": {
     "iopub.execute_input": "2021-02-03T15:00:11.911300Z",
     "iopub.status.busy": "2021-02-03T15:00:11.910531Z",
     "iopub.status.idle": "2021-02-03T15:00:12.366123Z",
     "shell.execute_reply": "2021-02-03T15:00:12.366676Z"
    },
    "papermill": {
     "duration": 0.591938,
     "end_time": "2021-02-03T15:00:12.366874",
     "exception": false,
     "start_time": "2021-02-03T15:00:11.774936",
     "status": "completed"
    },
    "tags": []
   },
   "outputs": [],
   "source": [
    "y_true = np.array(y_test)\n",
    "\n",
    "y_pred = model.predict(X_test)\n",
    "y_pred = np.array(list(map(lambda x: np.argmax(x), y_pred)))"
   ]
  },
  {
   "cell_type": "code",
   "execution_count": 18,
   "metadata": {
    "execution": {
     "iopub.execute_input": "2021-02-03T15:00:12.624522Z",
     "iopub.status.busy": "2021-02-03T15:00:12.623781Z",
     "iopub.status.idle": "2021-02-03T15:00:12.649358Z",
     "shell.execute_reply": "2021-02-03T15:00:12.648792Z"
    },
    "papermill": {
     "duration": 0.155808,
     "end_time": "2021-02-03T15:00:12.649512",
     "exception": false,
     "start_time": "2021-02-03T15:00:12.493704",
     "status": "completed"
    },
    "tags": []
   },
   "outputs": [
    {
     "name": "stderr",
     "output_type": "stream",
     "text": [
      "/opt/conda/lib/python3.7/site-packages/sklearn/metrics/_classification.py:1221: UndefinedMetricWarning: Precision and F-score are ill-defined and being set to 0.0 in labels with no predicted samples. Use `zero_division` parameter to control this behavior.\n",
      "  _warn_prf(average, modifier, msg_start, len(result))\n"
     ]
    }
   ],
   "source": [
    "cm = confusion_matrix(y_true, y_pred)\n",
    "clr = classification_report(y_true, y_pred, target_names=label_mapping.values())"
   ]
  },
  {
   "cell_type": "code",
   "execution_count": 19,
   "metadata": {
    "execution": {
     "iopub.execute_input": "2021-02-03T15:00:12.934244Z",
     "iopub.status.busy": "2021-02-03T15:00:12.916161Z",
     "iopub.status.idle": "2021-02-03T15:00:13.321482Z",
     "shell.execute_reply": "2021-02-03T15:00:13.322012Z"
    },
    "papermill": {
     "duration": 0.544703,
     "end_time": "2021-02-03T15:00:13.322191",
     "exception": false,
     "start_time": "2021-02-03T15:00:12.777488",
     "status": "completed"
    },
    "tags": []
   },
   "outputs": [
    {
     "data": {
      "image/png": "[encoded data removed]",
      "text/plain": [
       "<Figure size 720x720 with 1 Axes>"
      ]
     },
     "metadata": {
      "needs_background": "light"
     },
     "output_type": "display_data"
    }
   ],
   "source": [
    "plt.figure(figsize=(10, 10))\n",
    "sns.heatmap(cm, annot=True, fmt='g', vmin=0, cbar=False, cmap='Blues')\n",
    "\n",
    "plt.xticks(np.arange(7) + 0.5, label_mapping.values())\n",
    "plt.xlabel(\"Predicted\")\n",
    "\n",
    "plt.yticks(np.arange(7) + 0.5, label_mapping.values())\n",
    "plt.ylabel(\"Actual\")\n",
    "\n",
    "plt.title(\"Confusion Matrix\")\n",
    "\n",
    "plt.show()"
   ]
  },
  {
   "cell_type": "code",
   "execution_count": 20,
   "metadata": {
    "execution": {
     "iopub.execute_input": "2021-02-03T15:00:13.583418Z",
     "iopub.status.busy": "2021-02-03T15:00:13.582717Z",
     "iopub.status.idle": "2021-02-03T15:00:13.586508Z",
     "shell.execute_reply": "2021-02-03T15:00:13.585627Z"
    },
    "papermill": {
     "duration": 0.136197,
     "end_time": "2021-02-03T15:00:13.586701",
     "exception": false,
     "start_time": "2021-02-03T15:00:13.450504",
     "status": "completed"
    },
    "tags": []
   },
   "outputs": [
    {
     "name": "stdout",
     "output_type": "stream",
     "text": [
      "              precision    recall  f1-score   support\n",
      "\n",
      "          nv       0.20      0.01      0.02        94\n",
      "         mel       0.42      0.10      0.17       154\n",
      "         bkl       0.38      0.09      0.14       328\n",
      "         bcc       0.00      0.00      0.00        37\n",
      "       akiec       0.70      0.97      0.81      1990\n",
      "        vasc       0.00      0.00      0.00        49\n",
      "          df       0.41      0.13      0.20       353\n",
      "\n",
      "    accuracy                           0.68      3005\n",
      "   macro avg       0.30      0.19      0.19      3005\n",
      "weighted avg       0.58      0.68      0.59      3005\n",
      "\n"
     ]
    }
   ],
   "source": [
    "print(clr)"
   ]
  },
  {
   "cell_type": "code",
   "execution_count": 21,
   "metadata": {
    "execution": {
     "iopub.execute_input": "2021-02-03T15:00:13.852750Z",
     "iopub.status.busy": "2021-02-03T15:00:13.850798Z",
     "iopub.status.idle": "2021-02-03T15:00:15.171751Z",
     "shell.execute_reply": "2021-02-03T15:00:15.170958Z"
    },
    "papermill": {
     "duration": 1.455185,
     "end_time": "2021-02-03T15:00:15.171900",
     "exception": false,
     "start_time": "2021-02-03T15:00:13.716715",
     "status": "completed"
    },
    "tags": []
   },
   "outputs": [],
   "source": [
    "converter = tf.lite.TFLiteConverter.from_keras_model(model)\n",
    "tflite_model = converter.convert()\n",
    "\n",
    "# Save the model.\n",
    "with open('model.tflite', 'wb') as f:\n",
    "  f.write(tflite_model)"
   ]
  }
 ],
 "metadata": {
  "kernelspec": {
   "display_name": "Python 3",
   "language": "python",
   "name": "python3"
  },
  "language_info": {
   "codemirror_mode": {
    "name": "ipython",
    "version": 3
   },
   "file_extension": ".py",
   "mimetype": "text/x-python",
   "name": "python",
   "nbconvert_exporter": "python",
   "pygments_lexer": "ipython3",
   "version": "3.7.9"
  },
  "papermill": {
   "default_parameters": {},
   "duration": 45.077869,
   "end_time": "2021-02-03T15:00:16.512959",
   "environment_variables": {},
   "exception": null,
   "input_path": "__notebook__.ipynb",
   "output_path": "__notebook__.ipynb",
   "parameters": {},
   "start_time": "2021-02-03T14:59:31.435090",
   "version": "2.2.2"
  }
 },
 "nbformat": 4,
 "nbformat_minor": 4
}
